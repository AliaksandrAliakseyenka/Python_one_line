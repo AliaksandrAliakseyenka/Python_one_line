{
 "cells": [
  {
   "cell_type": "code",
   "execution_count": 1,
   "id": "5f47a42c",
   "metadata": {},
   "outputs": [
    {
     "name": "stdout",
     "output_type": "stream",
     "text": [
      "[4, 1, 0, 1, 4, 9, 16, 25, 36, 49, 64, 81]\n"
     ]
    }
   ],
   "source": [
    "# Cортировка Хоара\n",
    "print([x**2 for x in range(-2,10)])\n"
   ]
  },
  {
   "cell_type": "code",
   "execution_count": 7,
   "id": "54663514",
   "metadata": {},
   "outputs": [
    {
     "name": "stdout",
     "output_type": "stream",
     "text": [
      "5\n",
      "1\n",
      "6\n",
      "1.5\n",
      "1\n",
      "1\n",
      "-3\n",
      "3\n",
      "3\n",
      "3.0\n",
      "9\n"
     ]
    }
   ],
   "source": [
    "# Арифметические операции\n",
    "x, y = 3, 2 \n",
    "print(x + y) # = 5\n",
    "print(x - y) # = 1\n",
    "print(x * y) # = 6\n",
    "print(x / y) # = 1.5\n",
    "print(x // y) # = 1\n",
    "print(x % y) # = 1\n",
    "print(-x) # = -3\n",
    "print(abs(-x)) # = 3\n",
    "print(int(3.9)) # = 3\n",
    "print(float(x)) # = 3.0\n",
    "print(x ** y) # = 9"
   ]
  },
  {
   "cell_type": "code",
   "execution_count": 2,
   "id": "4726b15e",
   "metadata": {},
   "outputs": [
    {
     "name": "stdout",
     "output_type": "stream",
     "text": [
      "This is lazy\n",
      "drdre\n",
      "ATTENTION\n",
      "True\n",
      "True\n",
      "2\n"
     ]
    }
   ],
   "source": [
    "# Важнейшие методы для работы со строками\n",
    "y = \"    This is lazy\\t\\n   \"\n",
    "print(y.strip()) # Удаляем пробелы: 'This is lazy'\n",
    "print(\"DrDre\".lower()) # В нижнем регистре: 'drdre'\n",
    "print(\"attention\".upper()) # В верхнем регистре: 'ATTENTION'\n",
    "print(\"smartphone\".startswith(\"smart\")) # Сопоставляет префикс строки с аргументом: True\n",
    "print(\"smartphone\".endswith(\"phone\")) # Сопоставляет суффикс строки с аргументом: True\n",
    "print(\"another\".find(\"other\"))"
   ]
  },
  {
   "cell_type": "code",
   "execution_count": 9,
   "id": "f38d7e5b",
   "metadata": {},
   "outputs": [
    {
     "name": "stdout",
     "output_type": "stream",
     "text": [
      "True\n",
      "True\n",
      "code\n"
     ]
    }
   ],
   "source": [
    "# 1. Булевы операции \n",
    "x, y = True, False\n",
    "print(x and not y) # True\n",
    "print(not x and y or x) # True\n",
    "\n",
    "# 2. Если вычисление значения условия дает\n",
    "if None or 0 or 0.0 or '' or [] or {} or set():\n",
    "    print(\"Dead code\") # Не достигается\n",
    "else:\n",
    "    print(\"code\")"
   ]
  },
  {
   "cell_type": "code",
   "execution_count": 4,
   "id": "8a62db17",
   "metadata": {},
   "outputs": [
    {
     "name": "stdout",
     "output_type": "stream",
     "text": [
      "meat\n",
      "F,B,I\n",
      "15\n",
      "True\n"
     ]
    }
   ],
   "source": [
    "# Индекс найденного вхождения: 2\n",
    "print(\"cheat\".replace(\"ch\", \"m\")) # Заменяет все вхождения первого аргумента на второй: meat\n",
    "print(','.join([\"F\", \"B\", \"I\"])) # Склеивает все элементы списка, используя строку-разделитель: F,B,I\n",
    "print(len(\"Rumpelstiltskin\")) # Длина строки: 15\n",
    "print(\"ear\" in \"earth\") # Содержится: True"
   ]
  },
  {
   "cell_type": "code",
   "execution_count": 7,
   "id": "53f3e000",
   "metadata": {},
   "outputs": [
    {
     "name": "stdout",
     "output_type": "stream",
     "text": [
      "False\n",
      "False\n"
     ]
    }
   ],
   "source": [
    "# Ключевое слово None \n",
    "def f():    \n",
    "    x = 2\n",
    "# С ключевым словом 'is' я познакомлю вас ниже print(f() is None) # True\n",
    "print(\"\" == None) # False\n",
    "print(0 == None) # Fals"
   ]
  },
  {
   "cell_type": "code",
   "execution_count": 9,
   "id": "b4c2e299",
   "metadata": {},
   "outputs": [
    {
     "name": "stdout",
     "output_type": "stream",
     "text": [
      "[1, 2, 2, 4]\n",
      "[1, 2, 3, 4]\n",
      "[1, 2, 2, 4]\n"
     ]
    }
   ],
   "source": [
    "# 1. Добавление в конец списка \n",
    "l = [1, 2, 2]\n",
    "l.append(4) \n",
    "print(l) \n",
    "# [1, 2, 2, 4] \n",
    "# 2. Вставка \n",
    "l = [1, 2, 4] \n",
    "l.insert(2, 3) \n",
    "print(l) \n",
    "# [1, 2, 3, 4] \n",
    "# 3. Конкатенация списков \n",
    "print([1, 2, 2] + [4]) \n",
    "# [1, 2, 2, 4]"
   ]
  },
  {
   "cell_type": "code",
   "execution_count": null,
   "id": "7fd9f2d6",
   "metadata": {},
   "outputs": [],
   "source": [
    "# Удаление remove\n",
    "l = [1, 2, 2, 4] \n",
    "l.remove(1) \n",
    "print(l) \n",
    "# [2, 2, 4]"
   ]
  },
  {
   "cell_type": "code",
   "execution_count": 12,
   "id": "18da3b32",
   "metadata": {},
   "outputs": [
    {
     "name": "stdout",
     "output_type": "stream",
     "text": [
      "[4, 2, 2, 1]\n",
      "[1, 2, 2, 4]\n"
     ]
    }
   ],
   "source": [
    "# Порядок  элементов  списка  можно  инвертировать  с  помощью  метода list.reverse():\n",
    "l = [1, 2, 2, 4] \n",
    "l.reverse()\n",
    "print(l)\n",
    "# [4, 2, 2, 1]\n",
    "l = [2, 1, 4, 2] \n",
    "l.sort() \n",
    "print(l)  \n",
    "# [1, 2, 2, 4]"
   ]
  },
  {
   "cell_type": "code",
   "execution_count": 15,
   "id": "9ad85691",
   "metadata": {},
   "outputs": [
    {
     "data": {
      "text/plain": [
       "3"
      ]
     },
     "execution_count": 15,
     "metadata": {},
     "output_type": "execute_result"
    }
   ],
   "source": [
    "stack = [3] \n",
    "stack.append(42) \n",
    "# [3, 42] \n",
    "stack.pop() \n",
    "# 42 (stack: [3]) \n",
    "stack.pop()\n",
    "# 3 (stack: [])"
   ]
  },
  {
   "cell_type": "code",
   "execution_count": 16,
   "id": "ea9d692b",
   "metadata": {},
   "outputs": [
    {
     "name": "stdout",
     "output_type": "stream",
     "text": [
      "<class 'dict'>\n",
      "{'Alex': 32, 'Lexa': 41}\n",
      "True\n",
      "dict_keys(['Alex', 'Lexa'])\n",
      "dict_values([32, 41])\n",
      "True\n",
      "True\n",
      "41\n"
     ]
    }
   ],
   "source": [
    "# Ассоциативный массив\n",
    "dct = dict()\n",
    "print(type(dct))\n",
    "# Добавил\n",
    "dct[\"Alex\"] = 32\n",
    "dct[\"Lexa\"] = 41\n",
    "print(dct)\n",
    "# Сравнить\n",
    "print(dct['Alex']<dct[\"Lexa\"])\n",
    "print(dct.keys())\n",
    "print(dct.values())\n",
    "print(\"Alex\" in dct.keys())\n",
    "print(32 in dct.values())\n",
    "# for\n",
    "for k, v in dct.items():\n",
    "    print(v) if v > 40 else None"
   ]
  },
  {
   "cell_type": "code",
   "execution_count": 3,
   "id": "9ac84a36",
   "metadata": {},
   "outputs": [
    {
     "name": "stdout",
     "output_type": "stream",
     "text": [
      "True\n",
      "False\n",
      "True\n"
     ]
    }
   ],
   "source": [
    "# in\n",
    "print(42 in [2, 39, 42])   \n",
    "# True   \n",
    "print(\"21\" in {\"2\", \"39\", \"42\"})    \n",
    "# False    \n",
    "print(\"list\" in {\"list\" : [1, 2, 3], \"set\" : {1,2,3}})   \n",
    "# True"
   ]
  },
  {
   "cell_type": "code",
   "execution_count": 1,
   "id": "a2b0bc1b",
   "metadata": {},
   "outputs": [
    {
     "name": "stdout",
     "output_type": "stream",
     "text": [
      "<class 'list'>\n",
      "['Ann']\n"
     ]
    }
   ],
   "source": [
    "# (имя, $-доход) \n",
    "customers = [(\"John\", 240000),(\"Alice\", 120000),(\"Ann\", 1100000),(\"Zach\", 44000)] \n",
    "print(type(customers))\n",
    "# Ценные клиенты, зарабатывающие более $1 млн \n",
    "whales = [x for x,y in customers if y>1000000] \n",
    "print(whales) \n",
    "# ['Ann']"
   ]
  },
  {
   "cell_type": "code",
   "execution_count": 12,
   "id": "f9f67831",
   "metadata": {},
   "outputs": [
    {
     "name": "stdout",
     "output_type": "stream",
     "text": [
      "your value: 21\n",
      "Big\n"
     ]
    }
   ],
   "source": [
    "x = int(input(\"your value: \"))\n",
    "if x > 3:        \n",
    "    print(\"Big\") \n",
    "elif x == 3: \n",
    "    print(\"Medium\") \n",
    "else:        \n",
    "    print(\"Small\")"
   ]
  },
  {
   "cell_type": "code",
   "execution_count": 22,
   "id": "b1a223e9",
   "metadata": {},
   "outputs": [
    {
     "name": "stdout",
     "output_type": "stream",
     "text": [
      "22\n"
     ]
    }
   ],
   "source": [
    "# lambda\n",
    "print((lambda x: (x*10)+x)(2))"
   ]
  }
 ],
 "metadata": {
  "kernelspec": {
   "display_name": "Python 3 (ipykernel)",
   "language": "python",
   "name": "python3"
  },
  "language_info": {
   "codemirror_mode": {
    "name": "ipython",
    "version": 3
   },
   "file_extension": ".py",
   "mimetype": "text/x-python",
   "name": "python",
   "nbconvert_exporter": "python",
   "pygments_lexer": "ipython3",
   "version": "3.11.1"
  }
 },
 "nbformat": 4,
 "nbformat_minor": 5
}
