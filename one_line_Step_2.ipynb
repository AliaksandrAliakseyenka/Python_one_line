{
 "cells": [
  {
   "cell_type": "code",
   "execution_count": 8,
   "id": "c393a1eb",
   "metadata": {},
   "outputs": [
    {
     "name": "stdout",
     "output_type": "stream",
     "text": [
      "{'ALex': 101, 'Olla': 250}\n"
     ]
    }
   ],
   "source": [
    "# Поиск работника зп которого больше > 100\n",
    "employees= {\n",
    "    \"Kate\":80,\n",
    "    \"ALex\":101,\n",
    "    \"Olla\":250,\n",
    "    \"Misha\":99\n",
    "}\n",
    "top_salary = []\n",
    "\n",
    "for name, values in employees.items():\n",
    "    if values > 100:\n",
    "        top_salary.append((name,values))\n",
    "result_dict = dict(top_salary)\n",
    "print(result_dict)"
   ]
  },
  {
   "cell_type": "code",
   "execution_count": 13,
   "id": "ecedc507",
   "metadata": {},
   "outputs": [
    {
     "name": "stdout",
     "output_type": "stream",
     "text": [
      "[(0, 0), (0, 1), (1, 0), (1, 1)]\n"
     ]
    }
   ],
   "source": [
    "print([(x,y) for x in range(2) for y in range(2)])"
   ]
  },
  {
   "cell_type": "code",
   "execution_count": 21,
   "id": "703a7626",
   "metadata": {},
   "outputs": [
    {
     "name": "stdout",
     "output_type": "stream",
     "text": [
      "[1, 9, 25, 49, 81, 121, 169, 225, 289, 361, 441, 529, 625, 729, 841, 961, 1089, 1225, 1369, 1521, 1681, 1849, 2025, 2209, 2401, 2601, 2809]\n"
     ]
    }
   ],
   "source": [
    "lst = list(range(55))\n",
    "#print(lst_even,lst_odd)\n",
    "new_list_odd = list()\n",
    "new_lst_even = [num**2 for num in lst if num % 2 > 0]\n",
    "print(new_lst_even)"
   ]
  },
  {
   "cell_type": "code",
   "execution_count": 26,
   "id": "a4a40e5f",
   "metadata": {},
   "outputs": [
    {
     "name": "stdout",
     "output_type": "stream",
     "text": [
      "Lorem ipsum dolor sit amet consectetur\n",
      "LOREM IPSUM DOLOR SIT AMET CONSECTETUR\n"
     ]
    }
   ],
   "source": [
    "str = \"Lorem ipsum dolor sit amet consectetur\"\n",
    "print(str)\n",
    "up_str = str.upper()\n",
    "print(up_str)"
   ]
  },
  {
   "cell_type": "code",
   "execution_count": 3,
   "id": "fdf6f750",
   "metadata": {},
   "outputs": [
    {
     "name": "stdout",
     "output_type": "stream",
     "text": [
      "Lorem ipsum dolor sit amet consectetur adipiscing elit cursus at elementum a faucibus posuere  natoque euismod netus et orci ante.\n",
      "[['Lorem', 'ipsum', 'dolor', 'sit', 'amet', 'consectetur', 'adipiscing', 'elit,cursus', 'elementum', 'faucibus', 'posuere,', 'natoque', 'euismod', 'netus', 'orci', 'ante.']]\n"
     ]
    }
   ],
   "source": [
    "text= \"Lorem ipsum dolor sit amet consectetur adipiscing elit,\\\n",
    "cursus at elementum a faucibus posuere, natoque euismod netus et orci ante.\"\n",
    "\n",
    "new_text = text.replace(\",\", \" \")\n",
    "print(new_text)\n",
    "\n",
    "w = [[x for x in line.split() if len(x) >= 3] for line in text.split(\"/n\")]\n",
    "print(w)"
   ]
  },
  {
   "cell_type": "code",
   "execution_count": 3,
   "id": "5d85c38b",
   "metadata": {},
   "outputs": [
    {
     "name": "stdout",
     "output_type": "stream",
     "text": [
      "[(True, 'lambda functions are anonymous functions.'), (True, 'anonymous functions dont have a name.'), (False, 'functions are objects in Python.')]\n"
     ]
    }
   ],
   "source": [
    "txt = ['lambda functions are anonymous functions.',\n",
    "       'anonymous functions dont have a name.',\n",
    "       'functions are objects in Python.'] \n",
    "mark = map(lambda s: (True, s) if \"anonymous\" in s else (False, s),txt)\n",
    "print(list(mark))\n"
   ]
  },
  {
   "cell_type": "code",
   "execution_count": 42,
   "id": "7adbcdb0",
   "metadata": {},
   "outputs": [
    {
     "name": "stdout",
     "output_type": "stream",
     "text": [
      "1 2 3\n",
      "4 5 6\n",
      "1 2 3 4 5 6\n",
      "4 5 6 7 8 9 10 11\n",
      "1 2 3 4 5 6 7 8 9 10 11\n",
      "1234567\n",
      "1234567891 1\n",
      "11 01 9 8 7 6 5 4 3 2 1\n",
      "\n"
     ]
    }
   ],
   "source": [
    "ttx = \"1 2 3 4 5 6 7 8 9 10 11\"\n",
    "print(ttx[0:5])\n",
    "print(ttx[6:11])\n",
    "print(ttx[:11])\n",
    "print(ttx[6:])\n",
    "print(ttx[:100])\n",
    "print(ttx[0:14:2])\n",
    "print(ttx[::2])\n",
    "print(ttx[::-1])\n",
    "print(ttx[5:100:-1])"
   ]
  },
  {
   "cell_type": "code",
   "execution_count": 49,
   "id": "0015c782",
   "metadata": {},
   "outputs": [
    {
     "name": "stdout",
     "output_type": "stream",
     "text": [
      "a fully-managed MySQL and PostgreSQL\n"
     ]
    }
   ],
   "source": [
    "# Данные \n",
    "letters_amazon = ''' We spent several years building our own database engine,\n",
    "Amazon Aurora, a fully-managed MySQL and PostgreSQL-compatible service with the \n",
    "same or better durability and availability as the commercial engines, but at one-tenth of the cost.\n",
    "We were not surprised when this worked. '''\n",
    "find = lambda x, y: x[x.find(y)-18:x.find(y)+18] if y in x else -1\n",
    "print(find(letters_amazon, \"SQL\"))"
   ]
  },
  {
   "cell_type": "code",
   "execution_count": 51,
   "id": "71a9f5e6",
   "metadata": {},
   "outputs": [
    {
     "name": "stdout",
     "output_type": "stream",
     "text": [
      "[[9.9, 9.8, 9.5], [9.5, 9.4, 9.2], [8.4, 7.9, 8.0], [7.1, 4.8, 4.7]]\n"
     ]
    }
   ],
   "source": [
    "price = [[9.9, 9.8, 9.8, 9.4, 9.5, 9.7],\n",
    "         [9.5, 9.4, 9.4, 9.3, 9.2, 9.1], \n",
    "         [8.4, 7.9, 7.9, 8.1, 8.0, 8.0], \n",
    "         [7.1, 5.9, 4.8, 4.8, 4.7, 3.9]]\n",
    "result_slice = [x[::2] for x in price]\n",
    "print(result_slice)\n"
   ]
  },
  {
   "cell_type": "code",
   "execution_count": 53,
   "id": "910d933d",
   "metadata": {},
   "outputs": [
    {
     "name": "stdout",
     "output_type": "stream",
     "text": [
      "['Firefox', 'Firefox', 'Chrome', 'Chrome', 'Safari', 'Safari', 'Safari', 'Safari', 'Chrome', 'Chrome', 'Firefox', 'Firefox']\n"
     ]
    }
   ],
   "source": [
    "# Однострочное решение для замены всех испорченных строк \n",
    "visitors = ['Firefox', 'corrupted', 'Chrome', 'corrupted', \n",
    "            'Safari', 'corrupted', 'Safari', 'corrupted', \n",
    "            'Chrome', 'corrupted', 'Firefox', 'corrupted'] \n",
    "visitors[1::2] = visitors[::2]\n",
    "print(visitors)\n"
   ]
  },
  {
   "cell_type": "code",
   "execution_count": 64,
   "id": "61057e5a",
   "metadata": {},
   "outputs": [
    {
     "name": "stdout",
     "output_type": "stream",
     "text": [
      "[0, 1, 4, 9, 16, 25, 36, 49, 64, 81, 100, 121, 144, 169, 196, 225, 256, 289, 324, 361]\n",
      "2470\n"
     ]
    }
   ],
   "source": [
    "#any\n",
    "print([y*y for y in range(20)])\n",
    "print(sum(x*x for x in range(20)))"
   ]
  },
  {
   "cell_type": "code",
   "execution_count": 67,
   "id": "5f41e1fc",
   "metadata": {},
   "outputs": [
    {
     "name": "stdout",
     "output_type": "stream",
     "text": [
      "['CheapCompany', 'SosoCompany']\n"
     ]
    }
   ],
   "source": [
    "#Задача\n",
    "companies = {\n",
    "    'CoolCompany' : {'Alice' : 33, 'Bob' : 28, 'Frank' : 29}, \n",
    "    'CheapCompany' : {'Ann' : 4, 'Lee' : 9, 'Chrisi' : 7}, \n",
    "    'SosoCompany' : {'Esther' : 38, 'Cole' : 8, 'Paris' : 18}\n",
    "} \n",
    "bad_company = [x for x in companies if any(y < 9 for y in companies[x].values())]\n",
    "print(bad_company)"
   ]
  },
  {
   "cell_type": "code",
   "execution_count": 1,
   "id": "83933076",
   "metadata": {},
   "outputs": [
    {
     "name": "stdout",
     "output_type": "stream",
     "text": [
      "[('name', 'Bob'), ('salary', 99000), ('job', 'mid-level manager')]\n"
     ]
    }
   ],
   "source": [
    "# Задача with zip\n",
    "info_one = ['name','salary','job']\n",
    "info_two = ['Bob', 99000, 'mid-level manager']\n",
    "full_info = list(zip(info_one,info_two))\n",
    "print(full_info)\n",
    "full_info_one_line = "
   ]
  },
  {
   "cell_type": "code",
   "execution_count": 2,
   "id": "4459d75c",
   "metadata": {},
   "outputs": [
    {
     "name": "stdout",
     "output_type": "stream",
     "text": [
      "[{'name': 'Alice', 'salary': 180000, 'job': 'data scientist'}, {'name': 'Bob', 'salary': 99000, 'job': 'mid-level manager'}, {'name': 'Frank', 'salary': 87000, 'job': 'CEO'}]\n"
     ]
    }
   ],
   "source": [
    "# Задача 2\n",
    "column_names = ['name', 'salary', 'job']\n",
    "db_rows = [('Alice', 180000, 'data scientist'),\n",
    "           ('Bob', 99000, 'mid-level manager'),\n",
    "           ('Frank', 87000, 'CEO')\n",
    "          ]\n",
    "db = [dict(zip(column_names,row))for row in db_rows]\n",
    "print(db)"
   ]
  },
  {
   "cell_type": "code",
   "execution_count": 4,
   "id": "558d2995",
   "metadata": {},
   "outputs": [
    {
     "name": "stdout",
     "output_type": "stream",
     "text": [
      "1\n",
      "5 5 "
     ]
    }
   ],
   "source": [
    "k = [1,5,2,5,1]\n",
    "print(k[-1])\n",
    "\n",
    "for i in range(1, len(k)):\n",
    "    if k[i] > k[i-1]:\n",
    "        print(k[i], end=' ')\n"
   ]
  }
 ],
 "metadata": {
  "kernelspec": {
   "display_name": "Python 3 (ipykernel)",
   "language": "python",
   "name": "python3"
  },
  "language_info": {
   "codemirror_mode": {
    "name": "ipython",
    "version": 3
   },
   "file_extension": ".py",
   "mimetype": "text/x-python",
   "name": "python",
   "nbconvert_exporter": "python",
   "pygments_lexer": "ipython3",
   "version": "3.11.1"
  }
 },
 "nbformat": 4,
 "nbformat_minor": 5
}
